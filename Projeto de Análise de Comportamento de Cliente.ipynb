{
 "cells": [
  {
   "cell_type": "code",
   "execution_count": null,
   "id": "ede6167e",
   "metadata": {},
   "outputs": [],
   "source": [
    "#importando a base de dados\n",
    "import pandas as pd\n",
    "\n",
    "# leitura da tabela e correção dos erros de acento e separador para melhor visualização\n",
    "tabela = pd.read_csv(\"clientes.csv\", encoding=\"latin\", sep=\";\")\n",
    "\n",
    "#visualizando a base de dados \n",
    "display(tabela)\n",
    "print(tabela.columns)"
   ]
  },
  {
   "cell_type": "code",
   "execution_count": null,
   "id": "7743e5cd",
   "metadata": {},
   "outputs": [],
   "source": [
    "#identificando os possíveis tratamentos necessários na tabela \n",
    "display(tabela.info())\n",
    "\n",
    "# retirando colunas desnecessárias para a análise\n",
    "tabela = tabela.drop(\"ClienteID\", axis=1)\n",
    "tabela = tabela.drop(\"Unnamed: 8\", axis=1)\n",
    "\n",
    "# corrigindo valores reconhecidos de forma errada (total gasto é um valor numérico e não um texto)\n",
    "tabela[\"Salário Anual (R$)\"] = pd.to_numeric(tabela[\"Salário Anual (R$)\"], errors=\"coerce\")\n",
    "\n",
    "# deletando valores vazios\n",
    "tabela = tabela.dropna()\n",
    "print(tabela.info())"
   ]
  },
  {
   "cell_type": "code",
   "execution_count": null,
   "id": "ec2bd5ee",
   "metadata": {},
   "outputs": [],
   "source": [
    "# análise inicial para entendimento das notas dos clientes\n",
    "display(tabela.describe())"
   ]
  },
  {
   "cell_type": "code",
   "execution_count": null,
   "id": "7fd172ba",
   "metadata": {},
   "outputs": [],
   "source": [
    "import plotly.express as px"
   ]
  },
  {
   "cell_type": "code",
   "execution_count": null,
   "id": "ee971b68",
   "metadata": {
    "scrolled": true
   },
   "outputs": [],
   "source": [
    "#testando a análise para todas as outras informações da tabela\n",
    "for coluna in tabela.columns: #display(tabela.colums())\n",
    "    grafico = px.histogram(tabela, x = coluna, y=\"Nota (1-100)\", histfunc= \"avg\", text_auto = True, nbins = 5)\n",
    "    grafico.show()"
   ]
  }
 ],
 "metadata": {
  "kernelspec": {
   "display_name": "Python 3 (ipykernel)",
   "language": "python",
   "name": "python3"
  },
  "language_info": {
   "codemirror_mode": {
    "name": "ipython",
    "version": 3
   },
   "file_extension": ".py",
   "mimetype": "text/x-python",
   "name": "python",
   "nbconvert_exporter": "python",
   "pygments_lexer": "ipython3",
   "version": "3.11.4"
  }
 },
 "nbformat": 4,
 "nbformat_minor": 5
}
